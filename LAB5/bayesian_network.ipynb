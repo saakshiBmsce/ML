{
 "cells": [
  {
   "cell_type": "code",
   "execution_count": 3,
   "metadata": {},
   "outputs": [
    {
     "name": "stdout",
     "output_type": "stream",
     "text": [
      "Collecting package metadata (current_repodata.json): ...working... done\n",
      "Solving environment: ...working... done\n",
      "\n",
      "## Package Plan ##\n",
      "\n",
      "  environment location: C:\\Apps\\Anaconda\n",
      "\n",
      "  added / updated specs:\n",
      "    - pgmpy\n",
      "\n",
      "\n",
      "The following packages will be downloaded:\n",
      "\n",
      "    package                    |            build\n",
      "    ---------------------------|-----------------\n",
      "    _pytorch_select-0.1        |            cpu_0           4 KB\n",
      "    conda-4.10.1               |   py37haa95532_1         2.9 MB\n",
      "    libmklml-2019.0.5          |       haa95532_0        17.5 MB\n",
      "    ninja-1.10.2               |       h6d14046_1         250 KB\n",
      "    pgmpy-0.1.14               |           py37_0        24.7 MB  ankurankan\n",
      "    pytorch-1.6.0              |cpu_py37h538a6d7_0       101.1 MB\n",
      "    ------------------------------------------------------------\n",
      "                                           Total:       146.3 MB\n",
      "\n",
      "The following NEW packages will be INSTALLED:\n",
      "\n",
      "  _pytorch_select    pkgs/main/win-64::_pytorch_select-0.1-cpu_0\n",
      "  libmklml           pkgs/main/win-64::libmklml-2019.0.5-haa95532_0\n",
      "  ninja              pkgs/main/win-64::ninja-1.10.2-h6d14046_1\n",
      "  pgmpy              ankurankan/win-64::pgmpy-0.1.14-py37_0\n",
      "  pytorch            pkgs/main/win-64::pytorch-1.6.0-cpu_py37h538a6d7_0\n",
      "\n",
      "The following packages will be UPDATED:\n",
      "\n",
      "  conda                                       4.7.12-py37_0 --> 4.10.1-py37haa95532_1\n",
      "\n",
      "\n",
      "\n",
      "Downloading and Extracting Packages\n",
      "\n",
      "conda-4.10.1         | 2.9 MB    |            |   0% \n",
      "conda-4.10.1         | 2.9 MB    |            |   1% \n",
      "conda-4.10.1         | 2.9 MB    | #2         |  13% \n",
      "conda-4.10.1         | 2.9 MB    | ######5    |  65% \n",
      "conda-4.10.1         | 2.9 MB    | ########## | 100% \n",
      "\n",
      "pytorch-1.6.0        | 101.1 MB  |            |   0% \n",
      "pytorch-1.6.0        | 101.1 MB  |            |   1% \n",
      "pytorch-1.6.0        | 101.1 MB  | 2          |   3% \n",
      "pytorch-1.6.0        | 101.1 MB  | 4          |   4% \n",
      "pytorch-1.6.0        | 101.1 MB  | 5          |   6% \n",
      "pytorch-1.6.0        | 101.1 MB  | 7          |   8% \n",
      "pytorch-1.6.0        | 101.1 MB  | 9          |  10% \n",
      "pytorch-1.6.0        | 101.1 MB  | #1         |  11% \n",
      "pytorch-1.6.0        | 101.1 MB  | #3         |  13% \n",
      "pytorch-1.6.0        | 101.1 MB  | #5         |  15% \n",
      "pytorch-1.6.0        | 101.1 MB  | #6         |  17% \n",
      "pytorch-1.6.0        | 101.1 MB  | #8         |  19% \n",
      "pytorch-1.6.0        | 101.1 MB  | ##         |  20% \n",
      "pytorch-1.6.0        | 101.1 MB  | ##2        |  22% \n",
      "pytorch-1.6.0        | 101.1 MB  | ##3        |  24% \n",
      "pytorch-1.6.0        | 101.1 MB  | ##5        |  26% \n",
      "pytorch-1.6.0        | 101.1 MB  | ##7        |  27% \n",
      "pytorch-1.6.0        | 101.1 MB  | ##9        |  29% \n",
      "pytorch-1.6.0        | 101.1 MB  | ###        |  31% \n",
      "pytorch-1.6.0        | 101.1 MB  | ###2       |  33% \n",
      "pytorch-1.6.0        | 101.1 MB  | ###4       |  34% \n",
      "pytorch-1.6.0        | 101.1 MB  | ###5       |  36% \n",
      "pytorch-1.6.0        | 101.1 MB  | ###7       |  38% \n",
      "pytorch-1.6.0        | 101.1 MB  | ###9       |  39% \n",
      "pytorch-1.6.0        | 101.1 MB  | ####1      |  41% \n",
      "pytorch-1.6.0        | 101.1 MB  | ####2      |  43% \n",
      "pytorch-1.6.0        | 101.1 MB  | ####4      |  44% \n",
      "pytorch-1.6.0        | 101.1 MB  | ####6      |  47% \n",
      "pytorch-1.6.0        | 101.1 MB  | ####8      |  48% \n",
      "pytorch-1.6.0        | 101.1 MB  | ####9      |  50% \n",
      "pytorch-1.6.0        | 101.1 MB  | #####1     |  51% \n",
      "pytorch-1.6.0        | 101.1 MB  | #####3     |  53% \n",
      "pytorch-1.6.0        | 101.1 MB  | #####4     |  55% \n",
      "pytorch-1.6.0        | 101.1 MB  | #####6     |  57% \n",
      "pytorch-1.6.0        | 101.1 MB  | #####8     |  59% \n",
      "pytorch-1.6.0        | 101.1 MB  | ######     |  60% \n",
      "pytorch-1.6.0        | 101.1 MB  | ######2    |  62% \n",
      "pytorch-1.6.0        | 101.1 MB  | ######3    |  64% \n",
      "pytorch-1.6.0        | 101.1 MB  | ######5    |  66% \n",
      "pytorch-1.6.0        | 101.1 MB  | ######7    |  67% \n",
      "pytorch-1.6.0        | 101.1 MB  | ######9    |  69% \n",
      "pytorch-1.6.0        | 101.1 MB  | #######1   |  71% \n",
      "pytorch-1.6.0        | 101.1 MB  | #######2   |  73% \n",
      "pytorch-1.6.0        | 101.1 MB  | #######4   |  75% \n",
      "pytorch-1.6.0        | 101.1 MB  | #######6   |  77% \n",
      "pytorch-1.6.0        | 101.1 MB  | #######8   |  78% \n",
      "pytorch-1.6.0        | 101.1 MB  | ########   |  80% \n",
      "pytorch-1.6.0        | 101.1 MB  | ########1  |  82% \n",
      "pytorch-1.6.0        | 101.1 MB  | ########3  |  84% \n",
      "pytorch-1.6.0        | 101.1 MB  | ########5  |  85% \n",
      "pytorch-1.6.0        | 101.1 MB  | ########7  |  87% \n",
      "pytorch-1.6.0        | 101.1 MB  | ########8  |  89% \n",
      "pytorch-1.6.0        | 101.1 MB  | #########  |  90% \n",
      "pytorch-1.6.0        | 101.1 MB  | #########1 |  91% \n",
      "pytorch-1.6.0        | 101.1 MB  | #########3 |  93% \n",
      "pytorch-1.6.0        | 101.1 MB  | #########4 |  95% \n",
      "pytorch-1.6.0        | 101.1 MB  | #########5 |  96% \n",
      "pytorch-1.6.0        | 101.1 MB  | #########7 |  97% \n",
      "pytorch-1.6.0        | 101.1 MB  | #########8 |  99% \n",
      "pytorch-1.6.0        | 101.1 MB  | ########## | 100% \n",
      "\n",
      "ninja-1.10.2         | 250 KB    |            |   0% \n",
      "ninja-1.10.2         | 250 KB    | ########## | 100% \n",
      "\n",
      "_pytorch_select-0.1  | 4 KB      |            |   0% \n",
      "_pytorch_select-0.1  | 4 KB      | ########## | 100% \n",
      "\n",
      "libmklml-2019.0.5    | 17.5 MB   |            |   0% \n",
      "libmklml-2019.0.5    | 17.5 MB   | 3          |   3% \n",
      "libmklml-2019.0.5    | 17.5 MB   | #3         |  13% \n",
      "libmklml-2019.0.5    | 17.5 MB   | ##2        |  23% \n",
      "libmklml-2019.0.5    | 17.5 MB   | ###2       |  33% \n",
      "libmklml-2019.0.5    | 17.5 MB   | ####1      |  42% \n",
      "libmklml-2019.0.5    | 17.5 MB   | #####1     |  52% \n",
      "libmklml-2019.0.5    | 17.5 MB   | ######     |  61% \n",
      "libmklml-2019.0.5    | 17.5 MB   | #######    |  70% \n",
      "libmklml-2019.0.5    | 17.5 MB   | #######9   |  80% \n",
      "libmklml-2019.0.5    | 17.5 MB   | ########9  |  89% \n",
      "libmklml-2019.0.5    | 17.5 MB   | #########8 |  99% \n",
      "libmklml-2019.0.5    | 17.5 MB   | ########## | 100% \n",
      "\n",
      "pgmpy-0.1.14         | 24.7 MB   |            |   0% \n",
      "pgmpy-0.1.14         | 24.7 MB   | ########## | 100% \n",
      "Preparing transaction: ...working... done\n",
      "Verifying transaction: ...working... done\n",
      "Executing transaction: ...working... done\n",
      "\n",
      "Note: you may need to restart the kernel to use updated packages.\n"
     ]
    }
   ],
   "source": [
    "conda install -c ankurankan pgmpy"
   ]
  },
  {
   "cell_type": "code",
   "execution_count": 1,
   "metadata": {},
   "outputs": [],
   "source": [
    "import numpy as np\n",
    "import pandas as pd\n",
    "import csv\n",
    "from pgmpy.estimators import MaximumLikelihoodEstimator\n",
    "from pgmpy.models import BayesianModel\n",
    "from pgmpy.inference import VariableElimination"
   ]
  },
  {
   "cell_type": "code",
   "execution_count": 2,
   "metadata": {},
   "outputs": [],
   "source": [
    "heartDisease = pd.read_csv('heart.csv')"
   ]
  },
  {
   "cell_type": "code",
   "execution_count": 3,
   "metadata": {},
   "outputs": [
    {
     "name": "stdout",
     "output_type": "stream",
     "text": [
      "Sample instances from the dataset are given below\n",
      "   age  sex  cp  trestbps  chol  fbs  restecg  thalach  exang  oldpeak  slope  \\\n",
      "0   63    1   1       145   233    1        2      150      0      2.3      3   \n",
      "1   67    1   4       160   286    0        2      108      1      1.5      2   \n",
      "2   67    1   4       120   229    0        2      129      1      2.6      2   \n",
      "3   37    1   3       130   250    0        0      187      0      3.5      3   \n",
      "4   41    0   2       130   204    0        2      172      0      1.4      1   \n",
      "\n",
      "  ca thal  heartdisease  \n",
      "0  0    6             0  \n",
      "1  3    3             2  \n",
      "2  2    7             1  \n",
      "3  0    3             0  \n",
      "4  0    3             0  \n"
     ]
    }
   ],
   "source": [
    "print('Sample instances from the dataset are given below')\n",
    "print(heartDisease.head())"
   ]
  },
  {
   "cell_type": "code",
   "execution_count": 4,
   "metadata": {},
   "outputs": [
    {
     "name": "stdout",
     "output_type": "stream",
     "text": [
      "\n",
      " Attributes  |   datatypes\n",
      "age               int64\n",
      "sex               int64\n",
      "cp                int64\n",
      "trestbps          int64\n",
      "chol              int64\n",
      "fbs               int64\n",
      "restecg           int64\n",
      "thalach           int64\n",
      "exang             int64\n",
      "oldpeak         float64\n",
      "slope             int64\n",
      "ca               object\n",
      "thal             object\n",
      "heartdisease      int64\n",
      "dtype: object\n"
     ]
    }
   ],
   "source": [
    "print('\\n Attributes  |   datatypes')\n",
    "print(heartDisease.dtypes)"
   ]
  },
  {
   "cell_type": "code",
   "execution_count": 5,
   "metadata": {},
   "outputs": [],
   "source": [
    "model = BayesianModel([('age','heartdisease'),('sex','heartdisease'),('exang','heartdisease'),('cp','heartdisease'),('heartdisease','restecg'),('heartdisease','chol')])"
   ]
  },
  {
   "cell_type": "code",
   "execution_count": null,
   "metadata": {},
   "outputs": [],
   "source": []
  }
 ],
 "metadata": {
  "kernelspec": {
   "display_name": "Python 3",
   "language": "python",
   "name": "python3"
  },
  "language_info": {
   "codemirror_mode": {
    "name": "ipython",
    "version": 3
   },
   "file_extension": ".py",
   "mimetype": "text/x-python",
   "name": "python",
   "nbconvert_exporter": "python",
   "pygments_lexer": "ipython3",
   "version": "3.7.4"
  }
 },
 "nbformat": 4,
 "nbformat_minor": 2
}
