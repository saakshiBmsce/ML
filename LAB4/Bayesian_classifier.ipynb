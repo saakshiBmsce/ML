{
 "cells": [
  {
   "cell_type": "code",
   "execution_count": 18,
   "metadata": {},
   "outputs": [],
   "source": [
    "import csv\n",
    "import random\n",
    "import math"
   ]
  },
  {
   "cell_type": "code",
   "execution_count": 19,
   "metadata": {},
   "outputs": [],
   "source": [
    "def loadcsv(filename):\n",
    "    lines = csv.reader(open(filename, \"r\"));\n",
    "    dataset = list(lines)\n",
    "    for i in range(len(dataset)):\n",
    "     #converting strings into numbers for processing\n",
    "        dataset[i] = [float(x) for x in dataset[i]]\n",
    "    return dataset"
   ]
  },
  {
   "cell_type": "code",
   "execution_count": 20,
   "metadata": {},
   "outputs": [],
   "source": [
    "def splitdataset(dataset, splitratio):\n",
    "     #67% training size\n",
    "    trainsize = int(len(dataset) * splitratio);\n",
    "    trainset = []\n",
    "    copy = list(dataset);\n",
    "    while len(trainset) < trainsize:\n",
    "        #generate indices for the dataset list randomly to pick ele for training data\n",
    "        index = random.randrange(len(copy));\n",
    "        trainset.append(copy.pop(index))\n",
    "    return [trainset, copy]"
   ]
  },
  {
   "cell_type": "code",
   "execution_count": 40,
   "metadata": {},
   "outputs": [],
   "source": [
    "def separatebyclass(dataset):\n",
    "    separated = {} \n",
    "    #dictionary of classes 1 and 0\n",
    "    #creates a dictionary of classes 1 and 0 where the values are\n",
    "    #the instances belonging to each class\n",
    "    for i in range(len(dataset)):\n",
    "        vector = dataset[i]\n",
    "        if (vector[-1] not in separated):\n",
    "            separated[vector[-1]] = []\n",
    "        separated[vector[-1]].append(vector)\n",
    "    #print(\"seperated:\")\n",
    "    #print(separated)\n",
    "    return separated"
   ]
  },
  {
   "cell_type": "code",
   "execution_count": 22,
   "metadata": {},
   "outputs": [],
   "source": [
    "def mean(numbers):\n",
    "    return sum(numbers)/float(len(numbers))\n",
    "def stdev(numbers):\n",
    "    avg = mean(numbers)\n",
    "    variance = sum([pow(x-avg,2) for x in\n",
    "    numbers])/float(len(numbers)-1)\n",
    "    return math.sqrt(variance)"
   ]
  },
  {
   "cell_type": "code",
   "execution_count": 36,
   "metadata": {},
   "outputs": [],
   "source": [
    "def summarize(dataset): #creates a dictionary of classes\n",
    "    summaries = [(mean(attribute), stdev(attribute)) for\n",
    "    attribute in zip(*dataset)];\n",
    "    del summaries[-1] #excluding labels +ve or -ve\n",
    "    return summaries"
   ]
  },
  {
   "cell_type": "code",
   "execution_count": 44,
   "metadata": {},
   "outputs": [],
   "source": [
    "def summarizebyclass(dataset):\n",
    "    separated = separatebyclass(dataset);\n",
    "    #print(separated)\n",
    "    summaries = {}\n",
    "    for classvalue, instances in separated.items():\n",
    "    #for key,value in dic.items()\n",
    "    #summaries is a dic of tuples(mean,std) for each class value\n",
    "        summaries[classvalue] = summarize(instances)\n",
    "    #summarize is used to cal to mean and std\n",
    "    #print(\"summaries\")\n",
    "    print(summaries)\n",
    "    return summaries"
   ]
  },
  {
   "cell_type": "code",
   "execution_count": 25,
   "metadata": {},
   "outputs": [],
   "source": [
    "def calculateprobability(x, mean, stdev):\n",
    "    exponent = math.exp(-(math.pow(x-mean,2)/\n",
    "    (2*math.pow(stdev,2))))\n",
    "    return (1 / (math.sqrt(2*math.pi) * stdev)) * exponent"
   ]
  },
  {
   "cell_type": "code",
   "execution_count": 42,
   "metadata": {},
   "outputs": [],
   "source": [
    "def calculateclassprobabilities(summaries, inputvector):\n",
    "    # probabilities contains the all prob of all class of test data\n",
    "    probabilities = {}\n",
    "    for classvalue, classsummaries in summaries.items():\n",
    "    #class and attribute information as mean and sd\n",
    "        probabilities[classvalue] = 1\n",
    "        for i in range(len(classsummaries)):\n",
    "            mean, stdev = classsummaries[i] #take mean and sd of every attribute for class 0 and 1 seperaely\n",
    "            x = inputvector[i] #testvector's first attribute\n",
    "            probabilities[classvalue] *= calculateprobability(x, mean, stdev);#use normal dist\n",
    "    #print(\"probabilities\")\n",
    "    #print(probabilities)\n",
    "    return probabilities\n"
   ]
  },
  {
   "cell_type": "code",
   "execution_count": 27,
   "metadata": {},
   "outputs": [],
   "source": [
    "def predict(summaries, inputvector): #training and test data is passed\n",
    "    probabilities = calculateclassprobabilities(summaries,inputvector)\n",
    "    bestLabel, bestProb = None, -1\n",
    "    for classvalue, probability in probabilities.items():\n",
    "    #assigns that class which has the highest prob\n",
    "        if bestLabel is None or probability > bestProb:\n",
    "            bestProb = probability\n",
    "            bestLabel = classvalue\n",
    "    return bestLabel"
   ]
  },
  {
   "cell_type": "code",
   "execution_count": 28,
   "metadata": {},
   "outputs": [],
   "source": [
    "def getpredictions(summaries, testset):\n",
    "    predictions = []\n",
    "    for i in range(len(testset)):\n",
    "        result = predict(summaries, testset[i])\n",
    "        predictions.append(result)\n",
    "    return predictions"
   ]
  },
  {
   "cell_type": "code",
   "execution_count": 29,
   "metadata": {},
   "outputs": [],
   "source": [
    "def getaccuracy(testset, predictions):\n",
    "    correct = 0\n",
    "    for i in range(len(testset)):\n",
    "        if testset[i][-1] == predictions[i]:\n",
    "            correct += 1\n",
    "    return (correct/float(len(testset))) * 100.0"
   ]
  },
  {
   "cell_type": "code",
   "execution_count": 30,
   "metadata": {},
   "outputs": [],
   "source": [
    "def main():\n",
    "    filename = 'naivedata.csv'\n",
    "    splitratio = 0.67\n",
    "    dataset = loadcsv(filename);\n",
    "\n",
    "    trainingset, testset = splitdataset(dataset, splitratio)\n",
    "    print('Split {0} rows into train={1} and test={2} rows'.format(len(dataset), len(trainingset), len(testset)))\n",
    "    # prepare model\n",
    "    #get p(arttr/yes) and p(attr/no)\n",
    "    summaries = summarizebyclass(trainingset);\n",
    "    #print(summaries)\n",
    "    # test model\n",
    "    predictions = getpredictions(summaries, testset) #find the predictions of test data with the training data\n",
    "    accuracy = getaccuracy(testset, predictions)\n",
    "    print('Accuracy of the classifier is : {0}%'.format(accuracy))"
   ]
  },
  {
   "cell_type": "code",
   "execution_count": 43,
   "metadata": {
    "scrolled": false
   },
   "outputs": [
    {
     "name": "stdout",
     "output_type": "stream",
     "text": [
      "Split 768 rows into train=514 and test=254 rows\n",
      "Accuracy of the classifier is : 73.62204724409449%\n"
     ]
    }
   ],
   "source": [
    "main()"
   ]
  }
 ],
 "metadata": {
  "kernelspec": {
   "display_name": "Python 3",
   "language": "python",
   "name": "python3"
  },
  "language_info": {
   "codemirror_mode": {
    "name": "ipython",
    "version": 3
   },
   "file_extension": ".py",
   "mimetype": "text/x-python",
   "name": "python",
   "nbconvert_exporter": "python",
   "pygments_lexer": "ipython3",
   "version": "3.7.4"
  }
 },
 "nbformat": 4,
 "nbformat_minor": 2
}
