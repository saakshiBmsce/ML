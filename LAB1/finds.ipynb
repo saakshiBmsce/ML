{
 "cells": [
  {
   "cell_type": "code",
   "execution_count": 1,
   "metadata": {},
   "outputs": [],
   "source": [
    "import pandas as pd\n",
    "import numpy as np"
   ]
  },
  {
   "cell_type": "code",
   "execution_count": 5,
   "metadata": {},
   "outputs": [
    {
     "name": "stdout",
     "output_type": "stream",
     "text": [
      "  Weather Temperature Humidity    Wind Goes\n",
      "0   Sunny        Warm     Mild  Strong  Yes\n",
      "1   Rainy        Cold     Mild  Normal   No\n",
      "2   Sunny    Moderate    Nomal  Normal  Yes\n",
      "3   Sunny        Cold     High  Strong  Yes \n",
      "\n"
     ]
    }
   ],
   "source": [
    "data = pd.read_csv(\"C:/Users/AMBAJI T NAVALE/Desktop/SIXTH_SEM/LAB1/finds.csv\")\n",
    "print(data,\"\\n\")"
   ]
  },
  {
   "cell_type": "code",
   "execution_count": 6,
   "metadata": {},
   "outputs": [
    {
     "name": "stdout",
     "output_type": "stream",
     "text": [
      "\n",
      " The attributes are:  [['Sunny' 'Warm' 'Mild' 'Strong']\n",
      " ['Rainy' 'Cold' 'Mild' 'Normal']\n",
      " ['Sunny' 'Moderate' 'Nomal' 'Normal']\n",
      " ['Sunny' 'Cold' 'High' 'Strong']]\n"
     ]
    }
   ],
   "source": [
    "d = np.array(data)[:,:-1]\n",
    "print(\"\\n The attributes are: \",d)"
   ]
  },
  {
   "cell_type": "code",
   "execution_count": 9,
   "metadata": {},
   "outputs": [
    {
     "name": "stdout",
     "output_type": "stream",
     "text": [
      "\n",
      " The target is:  ['Yes' 'No' 'Yes' 'Yes']\n"
     ]
    }
   ],
   "source": [
    "target = np.array(data)[:,-1]\n",
    "print(\"\\n The target is: \",target)"
   ]
  },
  {
   "cell_type": "code",
   "execution_count": 13,
   "metadata": {},
   "outputs": [],
   "source": [
    "def findS(c,t):\n",
    "    print(\"c: \",c)\n",
    "    print(\"t: \",t)\n",
    "    for i, val in enumerate(t):\n",
    "        if val == \"Yes\":\n",
    "            specific_hypothesis = c[i].copy()\n",
    "            break\n",
    "    print(\"specific hypo:\",specific_hypothesis)\n",
    "    for i, val in enumerate(c):\n",
    "        if t[i] == \"Yes\":\n",
    "            for x in range(len(specific_hypothesis)):\n",
    "                if val[x] != specific_hypothesis[x]:\n",
    "                    specific_hypothesis[x] = '?'\n",
    "                else:\n",
    "                    pass\n",
    "                 \n",
    "    return specific_hypothesis"
   ]
  },
  {
   "cell_type": "code",
   "execution_count": 14,
   "metadata": {},
   "outputs": [
    {
     "name": "stdout",
     "output_type": "stream",
     "text": [
      "c:  [['Sunny' 'Warm' 'Mild' 'Strong']\n",
      " ['Rainy' 'Cold' 'Mild' 'Normal']\n",
      " ['Sunny' 'Moderate' 'Nomal' 'Normal']\n",
      " ['Sunny' 'Cold' 'High' 'Strong']]\n",
      "t:  ['Yes' 'No' 'Yes' 'Yes']\n",
      "specific hypo: ['Sunny' 'Warm' 'Mild' 'Strong']\n",
      "\n",
      " The final hypothesis is: ['Sunny' '?' '?' '?']\n"
     ]
    }
   ],
   "source": [
    "print(\"\\n The final hypothesis is:\",findS(d,target))"
   ]
  }
 ],
 "metadata": {
  "kernelspec": {
   "display_name": "Python 3",
   "language": "python",
   "name": "python3"
  },
  "language_info": {
   "codemirror_mode": {
    "name": "ipython",
    "version": 3
   },
   "file_extension": ".py",
   "mimetype": "text/x-python",
   "name": "python",
   "nbconvert_exporter": "python",
   "pygments_lexer": "ipython3",
   "version": "3.7.4"
  }
 },
 "nbformat": 4,
 "nbformat_minor": 2
}
